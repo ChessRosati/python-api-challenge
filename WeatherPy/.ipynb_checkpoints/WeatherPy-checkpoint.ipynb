{
 "cells": [
  {
   "cell_type": "markdown",
   "metadata": {},
   "source": [
    "# WeatherPy\n",
    "----\n",
    "\n",
    "#### Note\n",
    "* Instructions have been included for each segment. You do not have to follow them exactly, but they are included to help you think through the steps."
   ]
  },
  {
   "cell_type": "code",
   "execution_count": 2,
   "metadata": {
    "scrolled": true
   },
   "outputs": [],
   "source": [
    "# Dependencies and Setup\n",
    "import matplotlib.pyplot as plt\n",
    "import pandas as pd\n",
    "import numpy as np\n",
    "import requests\n",
    "import time\n",
    "from scipy.stats import linregress\n",
    "\n",
    "# Import API key\n",
    "from api_keys import weather_api_key\n",
    "\n",
    "# Incorporated citipy to determine city based on latitude and longitude\n",
    "from citipy import citipy\n",
    "\n",
    "# Output File (CSV)\n",
    "output_data_file = \"output_data/cities.csv\"\n",
    "\n",
    "# Range of latitudes and longitudes\n",
    "lat_range = (-90, 90)\n",
    "lng_range = (-180, 180)"
   ]
  },
  {
   "cell_type": "markdown",
   "metadata": {},
   "source": [
    "## Generate Cities List"
   ]
  },
  {
   "cell_type": "code",
   "execution_count": 4,
   "metadata": {},
   "outputs": [
    {
     "data": {
      "text/plain": [
       "620"
      ]
     },
     "execution_count": 4,
     "metadata": {},
     "output_type": "execute_result"
    }
   ],
   "source": [
    "# List for holding lat_lngs and cities\n",
    "lat_lngs = []\n",
    "cities = []\n",
    "\n",
    "# Create a set of random lat and lng combinations\n",
    "lats = np.random.uniform(lat_range[0], lat_range[1], size=1500)\n",
    "lngs = np.random.uniform(lng_range[0], lng_range[1], size=1500)\n",
    "lat_lngs = zip(lats, lngs)\n",
    "\n",
    "# Identify nearest city for each lat, lng combination\n",
    "for lat_lng in lat_lngs:\n",
    "    city = citipy.nearest_city(lat_lng[0], lat_lng[1]).city_name\n",
    "    \n",
    "    # If the city is unique, then add it to a our cities list\n",
    "    if city not in cities:\n",
    "        cities.append(city)\n",
    "\n",
    "# Print the city count to confirm sufficient count\n",
    "len(cities)"
   ]
  },
  {
   "cell_type": "markdown",
   "metadata": {},
   "source": [
    "### Perform API Calls\n",
    "* Perform a weather check on each city using a series of successive API calls.\n",
    "* Include a print log of each city as it'sbeing processed (with the city number and city name).\n"
   ]
  },
  {
   "cell_type": "code",
   "execution_count": 26,
   "metadata": {},
   "outputs": [
    {
     "name": "stdout",
     "output_type": "stream",
     "text": [
      "Processing Record 1 | hermanus\n",
      "Processing Record 2 | port elizabeth\n",
      "Processing Record 3 | pangoa\n",
      "Processing Record 4 | mataura\n",
      "Processing Record 5 | puerto ayora\n",
      "Processing Record 6 | cape town\n",
      "Processing Record 7 | port hedland\n",
      "Processing Record 8 | mar del plata\n",
      "Processing Record 9 | kenai\n",
      "Processing Record 10 | port hardy\n",
      "Processing Record 11 | rikitea\n",
      "City not found. Skipping...\n",
      "Processing Record 12 | new norfolk\n",
      "Processing Record 13 | carnarvon\n",
      "Processing Record 14 | cockburn town\n",
      "Processing Record 15 | kaoma\n",
      "Processing Record 16 | san quintin\n",
      "Processing Record 17 | opuwo\n",
      "Processing Record 18 | nacala\n",
      "Processing Record 19 | sitka\n",
      "Processing Record 20 | bethel\n",
      "City not found. Skipping...\n",
      "Processing Record 21 | gat\n",
      "Processing Record 22 | awbari\n",
      "Processing Record 23 | hervey bay\n",
      "City not found. Skipping...\n",
      "Processing Record 24 | albany\n",
      "Processing Record 25 | guerrero negro\n",
      "Processing Record 26 | buraydah\n",
      "Processing Record 27 | chokurdakh\n",
      "Processing Record 28 | thai binh\n",
      "Processing Record 29 | kahului\n",
      "Processing Record 30 | cayenne\n",
      "Processing Record 31 | hithadhoo\n",
      "Processing Record 32 | kapaa\n",
      "Processing Record 33 | idrinskoye\n",
      "Processing Record 34 | punta arenas\n",
      "City not found. Skipping...\n",
      "City not found. Skipping...\n",
      "Processing Record 35 | clyde river\n",
      "Processing Record 36 | shingu\n",
      "Processing Record 37 | durant\n",
      "Processing Record 38 | ushuaia\n",
      "Processing Record 39 | busselton\n",
      "Processing Record 40 | cheremnoye\n",
      "Processing Record 41 | yenagoa\n",
      "Processing Record 42 | lagoa\n",
      "Processing Record 43 | qaanaaq\n",
      "Processing Record 44 | juneau\n",
      "Processing Record 45 | castro\n",
      "Processing Record 46 | houma\n",
      "Processing Record 47 | jamestown\n",
      "Processing Record 48 | lebanon\n",
      "City not found. Skipping...\n",
      "Processing Record 49 | souillac\n",
      "Processing Record 50 | saint-philippe\n",
      "Processing Record 51 | hesperia\n",
      "Processing Record 52 | longyearbyen\n",
      "Processing Record 53 | pacific grove\n",
      "Processing Record 54 | arraial do cabo\n",
      "Processing Record 55 | tarabuco\n",
      "City not found. Skipping...\n",
      "Processing Record 56 | praya\n",
      "Processing Record 57 | kodiak\n",
      "Processing Record 58 | marzuq\n",
      "Processing Record 59 | ulaangom\n",
      "Processing Record 60 | viedma\n",
      "Processing Record 61 | sao miguel do araguaia\n",
      "Processing Record 62 | vaini\n",
      "Processing Record 63 | tolu\n",
      "City not found. Skipping...\n",
      "Processing Record 64 | tiksi\n",
      "City not found. Skipping...\n",
      "Processing Record 65 | lebu\n",
      "Processing Record 66 | hobart\n",
      "Processing Record 67 | teluknaga\n",
      "Processing Record 68 | hvolsvollur\n",
      "Processing Record 69 | bandarbeyla\n",
      "Processing Record 70 | avarua\n",
      "Processing Record 71 | kaitangata\n",
      "Processing Record 72 | gazanjyk\n",
      "Processing Record 73 | huntington\n",
      "Processing Record 74 | turayf\n",
      "Processing Record 75 | ailigandi\n",
      "Processing Record 76 | avera\n",
      "Processing Record 77 | airai\n",
      "Processing Record 78 | saldanha\n",
      "Processing Record 79 | poum\n",
      "Processing Record 80 | tuktoyaktuk\n",
      "Processing Record 81 | dwarka\n",
      "Processing Record 82 | naze\n",
      "Processing Record 83 | tasiilaq\n",
      "Processing Record 84 | bluff\n",
      "Processing Record 85 | ous\n",
      "Processing Record 86 | divo\n",
      "Processing Record 87 | dudinka\n",
      "Processing Record 88 | luderitz\n",
      "Processing Record 89 | huilong\n",
      "Processing Record 90 | salalah\n",
      "Processing Record 91 | kalaleh\n",
      "Processing Record 92 | mahebourg\n",
      "Processing Record 93 | boma\n",
      "Processing Record 94 | sept-iles\n",
      "Processing Record 95 | iqaluit\n",
      "Processing Record 96 | formosa\n",
      "Processing Record 97 | lata\n",
      "City not found. Skipping...\n",
      "Processing Record 98 | yellowknife\n",
      "Processing Record 99 | lorengau\n",
      "Processing Record 100 | barrow\n",
      "City not found. Skipping...\n",
      "Processing Record 101 | havelock\n",
      "Processing Record 102 | cascais\n",
      "Processing Record 103 | atherton\n",
      "Processing Record 104 | borogontsy\n",
      "Processing Record 105 | warrington\n",
      "Processing Record 106 | paamiut\n",
      "Processing Record 107 | nanning\n",
      "Processing Record 108 | torbay\n",
      "Processing Record 109 | gbadolite\n",
      "Processing Record 110 | high level\n",
      "Processing Record 111 | mapimi\n",
      "Processing Record 112 | hilo\n",
      "Processing Record 113 | filingue\n",
      "Processing Record 114 | chuy\n",
      "Processing Record 115 | baruun-urt\n",
      "Processing Record 116 | upernavik\n",
      "City not found. Skipping...\n",
      "Processing Record 117 | pevek\n",
      "Processing Record 118 | bella vista\n",
      "City not found. Skipping...\n",
      "Processing Record 119 | makakilo city\n",
      "Processing Record 120 | mehamn\n",
      "Processing Record 121 | ewa beach\n",
      "Processing Record 122 | reforma\n",
      "Processing Record 123 | bambous virieux\n",
      "Processing Record 124 | leningradskiy\n",
      "Processing Record 125 | deputatskiy\n",
      "City not found. Skipping...\n",
      "Processing Record 126 | suntar\n",
      "Processing Record 127 | tual\n",
      "City not found. Skipping...\n",
      "Processing Record 128 | woodland\n",
      "Processing Record 129 | henties bay\n",
      "Processing Record 130 | grindavik\n",
      "Processing Record 131 | la ronge\n",
      "Processing Record 132 | ilulissat\n",
      "Processing Record 133 | atar\n",
      "Processing Record 134 | tupik\n",
      "Processing Record 135 | lima\n",
      "Processing Record 136 | mount pleasant\n",
      "Processing Record 137 | half moon bay\n",
      "Processing Record 138 | katsuura\n",
      "Processing Record 139 | steinbach\n",
      "Processing Record 140 | lavrentiya\n",
      "City not found. Skipping...\n",
      "Processing Record 141 | evensk\n",
      "Processing Record 142 | tura\n",
      "Processing Record 143 | paita\n",
      "Processing Record 144 | port alfred\n",
      "Processing Record 145 | pineville\n",
      "Processing Record 146 | east london\n",
      "Processing Record 147 | cassilandia\n",
      "Processing Record 148 | ponta do sol\n",
      "Processing Record 149 | saskylakh\n",
      "Processing Record 150 | dongli\n",
      "Processing Record 151 | maralal\n",
      "Processing Record 152 | palu\n",
      "Processing Record 153 | ahipara\n",
      "Processing Record 154 | nikolskoye\n",
      "Processing Record 155 | aksarka\n",
      "City not found. Skipping...\n",
      "City not found. Skipping...\n",
      "Processing Record 156 | fereydun kenar\n",
      "Processing Record 157 | bredasdorp\n",
      "Processing Record 158 | kichmengskiy gorodok\n",
      "Processing Record 159 | cherskiy\n",
      "Processing Record 160 | butaritari\n",
      "City not found. Skipping...\n",
      "Processing Record 161 | el fuerte\n",
      "Processing Record 162 | luanda\n",
      "Processing Record 163 | verkhoyansk\n",
      "Processing Record 164 | antsohihy\n",
      "Processing Record 165 | polunochnoye\n",
      "Processing Record 166 | catuday\n",
      "Processing Record 167 | nantucket\n",
      "Processing Record 168 | verkhniy landekh\n",
      "Processing Record 169 | muzhi\n",
      "Processing Record 170 | lloydminster\n",
      "Processing Record 171 | mehriz\n",
      "City not found. Skipping...\n",
      "Processing Record 172 | atuona\n",
      "Processing Record 173 | joshimath\n",
      "Processing Record 174 | san patricio\n",
      "Processing Record 175 | te anau\n",
      "Processing Record 176 | nanortalik\n",
      "Processing Record 177 | puerto escondido\n",
      "Processing Record 178 | walvis bay\n",
      "Processing Record 179 | qeshm\n",
      "Processing Record 180 | biltine\n",
      "Processing Record 181 | cacoal\n",
      "Processing Record 182 | bell ville\n",
      "Processing Record 183 | bengkulu\n",
      "Processing Record 184 | shelkovskaya\n",
      "City not found. Skipping...\n",
      "Processing Record 185 | vondrozo\n",
      "Processing Record 186 | touros\n",
      "Processing Record 187 | areka\n",
      "Processing Record 188 | alakurtti\n",
      "Processing Record 189 | nome\n",
      "Processing Record 190 | inongo\n",
      "Processing Record 191 | zhigalovo\n",
      "Processing Record 192 | abu samrah\n",
      "Processing Record 193 | srednekolymsk\n",
      "Processing Record 194 | labuhan\n",
      "Processing Record 195 | tonekabon\n",
      "Processing Record 196 | caravelas\n",
      "Processing Record 197 | provideniya\n",
      "Processing Record 198 | lompoc\n",
      "Processing Record 199 | kebomas\n",
      "Processing Record 200 | sawakin\n",
      "Processing Record 201 | port lincoln\n",
      "Processing Record 202 | thompson\n",
      "Processing Record 203 | namatanai\n",
      "Processing Record 204 | alofi\n",
      "Processing Record 205 | kieta\n",
      "Processing Record 206 | iskateley\n",
      "Processing Record 207 | andros town\n",
      "Processing Record 208 | challans\n",
      "Processing Record 209 | sibolga\n",
      "Processing Record 210 | khatanga\n",
      "Processing Record 211 | agadez\n",
      "Processing Record 212 | minab\n",
      "Processing Record 213 | dourbali\n",
      "Processing Record 214 | dikson\n",
      "City not found. Skipping...\n",
      "City not found. Skipping...\n",
      "Processing Record 215 | weinan\n",
      "Processing Record 216 | pangnirtung\n",
      "Processing Record 217 | mudgee\n",
      "Processing Record 218 | chapais\n",
      "Processing Record 219 | college\n",
      "Processing Record 220 | mbandaka\n",
      "Processing Record 221 | ulvik\n",
      "Processing Record 222 | pisco\n",
      "Processing Record 223 | saravan\n",
      "Processing Record 224 | chitose\n",
      "Processing Record 225 | pangody\n",
      "Processing Record 226 | vila franca do campo\n",
      "Processing Record 227 | luang prabang\n",
      "Processing Record 228 | bushehr\n",
      "Processing Record 229 | mizan teferi\n",
      "Processing Record 230 | boa vista\n",
      "Processing Record 231 | vredendal\n"
     ]
    },
    {
     "name": "stdout",
     "output_type": "stream",
     "text": [
      "Processing Record 232 | bilma\n",
      "Processing Record 233 | kavieng\n",
      "Processing Record 234 | mackay\n",
      "Processing Record 235 | zeerust\n",
      "Processing Record 236 | sao filipe\n",
      "Processing Record 237 | itamaraju\n",
      "Processing Record 238 | bathsheba\n",
      "Processing Record 239 | mikhaylovka\n",
      "Processing Record 240 | portland\n",
      "Processing Record 241 | muroto\n",
      "Processing Record 242 | bacolod\n",
      "Processing Record 243 | beausejour\n",
      "Processing Record 244 | roseburg\n",
      "Processing Record 245 | port keats\n",
      "City not found. Skipping...\n",
      "Processing Record 246 | saint george\n",
      "Processing Record 247 | qasigiannguit\n",
      "Processing Record 248 | songjianghe\n",
      "Processing Record 249 | skibbereen\n",
      "Processing Record 250 | maneadero\n",
      "Processing Record 251 | imperia\n",
      "Processing Record 252 | atambua\n",
      "Processing Record 253 | vega de alatorre\n",
      "Processing Record 254 | flin flon\n",
      "Processing Record 255 | talnakh\n",
      "Processing Record 256 | butajira\n",
      "Processing Record 257 | takoradi\n",
      "Processing Record 258 | seminole\n",
      "Processing Record 259 | constitucion\n",
      "Processing Record 260 | nuuk\n",
      "City not found. Skipping...\n",
      "Processing Record 261 | at-bashi\n",
      "Processing Record 262 | sabha\n",
      "Processing Record 263 | coruripe\n",
      "Processing Record 264 | katy\n",
      "Processing Record 265 | jimma\n",
      "Processing Record 266 | lingion\n",
      "City not found. Skipping...\n",
      "Processing Record 267 | anadyr\n",
      "Processing Record 268 | kokopo\n",
      "Processing Record 269 | fortuna\n",
      "Processing Record 270 | zhurivka\n",
      "Processing Record 271 | ruteng\n",
      "Processing Record 272 | dingle\n",
      "Processing Record 273 | pemangkat\n",
      "City not found. Skipping...\n",
      "Processing Record 274 | merritt\n",
      "Processing Record 275 | aras\n",
      "Processing Record 276 | dodge city\n",
      "Processing Record 277 | victoria\n",
      "Processing Record 278 | coquimbo\n",
      "Processing Record 279 | erdenet\n",
      "Processing Record 280 | ribeira grande\n",
      "Processing Record 281 | karratha\n",
      "Processing Record 282 | ostrovnoy\n",
      "Processing Record 283 | umm kaddadah\n",
      "Processing Record 284 | aurillac\n",
      "Processing Record 285 | arlit\n",
      "Processing Record 286 | buchanan\n",
      "Processing Record 287 | vestmannaeyjar\n",
      "Processing Record 288 | geraldton\n",
      "Processing Record 289 | oyama\n",
      "City not found. Skipping...\n",
      "Processing Record 290 | lostice\n",
      "Processing Record 291 | sola\n",
      "Processing Record 292 | rabo de peixe\n",
      "Processing Record 293 | xichang\n",
      "Processing Record 294 | camana\n",
      "Processing Record 295 | chadiza\n",
      "Processing Record 296 | cabo san lucas\n",
      "Processing Record 297 | cambrils\n",
      "Processing Record 298 | havoysund\n",
      "Processing Record 299 | necochea\n",
      "Processing Record 300 | cap malheureux\n",
      "Processing Record 301 | broome\n",
      "Processing Record 302 | ketchikan\n",
      "Processing Record 303 | oranjemund\n",
      "Processing Record 304 | saint-joseph\n",
      "Processing Record 305 | hay river\n",
      "Processing Record 306 | esperance\n",
      "Processing Record 307 | qianguo\n",
      "Processing Record 308 | kruisfontein\n",
      "Processing Record 309 | aitape\n",
      "Processing Record 310 | puksoozero\n",
      "Processing Record 311 | pyinmana\n",
      "Processing Record 312 | sorland\n",
      "Processing Record 313 | gamba\n",
      "Processing Record 314 | borovskoy\n",
      "City not found. Skipping...\n",
      "Processing Record 315 | le port\n",
      "Processing Record 316 | khudumelapye\n",
      "Processing Record 317 | zhigansk\n",
      "Processing Record 318 | isangel\n",
      "Processing Record 319 | vao\n",
      "City not found. Skipping...\n",
      "City not found. Skipping...\n",
      "City not found. Skipping...\n",
      "Processing Record 320 | yabrud\n",
      "Processing Record 321 | elizabeth city\n",
      "Processing Record 322 | cartagena\n",
      "Processing Record 323 | tessalit\n",
      "Processing Record 324 | codrington\n",
      "Processing Record 325 | batticaloa\n",
      "Processing Record 326 | port augusta\n",
      "Processing Record 327 | hambantota\n",
      "Processing Record 328 | sorong\n",
      "Processing Record 329 | beringovskiy\n",
      "Processing Record 330 | erenhot\n",
      "Processing Record 331 | faya\n",
      "City not found. Skipping...\n",
      "Processing Record 332 | atbasar\n",
      "Processing Record 333 | ulladulla\n",
      "Processing Record 334 | saint anthony\n",
      "Processing Record 335 | pallasovka\n",
      "Processing Record 336 | piopio\n",
      "Processing Record 337 | valerik\n",
      "Processing Record 338 | kavaratti\n",
      "Processing Record 339 | bac lieu\n",
      "Processing Record 340 | sambava\n",
      "Processing Record 341 | laguna\n",
      "City not found. Skipping...\n",
      "Processing Record 342 | buala\n",
      "Processing Record 343 | georgetown\n",
      "Processing Record 344 | san cristobal\n",
      "Processing Record 345 | umuarama\n",
      "Processing Record 346 | omboue\n",
      "Processing Record 347 | quatre cocos\n",
      "Processing Record 348 | abu dhabi\n",
      "Processing Record 349 | north bend\n",
      "Processing Record 350 | berdigestyakh\n",
      "Processing Record 351 | porto walter\n",
      "Processing Record 352 | bintulu\n",
      "Processing Record 353 | ormara\n",
      "Processing Record 354 | norman wells\n",
      "Processing Record 355 | grand forks\n",
      "Processing Record 356 | korla\n",
      "Processing Record 357 | cidreira\n",
      "Processing Record 358 | mana\n",
      "Processing Record 359 | bubaque\n",
      "City not found. Skipping...\n",
      "Processing Record 360 | port moresby\n",
      "Processing Record 361 | port macquarie\n",
      "Processing Record 362 | peto\n",
      "City not found. Skipping...\n",
      "Processing Record 363 | vaiano\n",
      "Processing Record 364 | grootfontein\n",
      "Processing Record 365 | aklavik\n",
      "Processing Record 366 | diebougou\n",
      "Processing Record 367 | yulara\n",
      "Processing Record 368 | chegdomyn\n",
      "Processing Record 369 | bilibino\n",
      "Processing Record 370 | marshall\n",
      "Processing Record 371 | harper\n",
      "Processing Record 372 | sterling\n",
      "Processing Record 373 | breznice\n",
      "Processing Record 374 | raahe\n",
      "Processing Record 375 | yuncheng\n",
      "Processing Record 376 | wahpeton\n",
      "Processing Record 377 | hofn\n",
      "Processing Record 378 | itarema\n",
      "Processing Record 379 | yefremov\n",
      "Processing Record 380 | torres\n",
      "City not found. Skipping...\n",
      "Processing Record 381 | tommot\n",
      "Processing Record 382 | starokozache\n",
      "Processing Record 383 | biak\n",
      "Processing Record 384 | ogembo\n",
      "Processing Record 385 | egvekinot\n",
      "Processing Record 386 | asau\n",
      "Processing Record 387 | fomboni\n",
      "Processing Record 388 | lampa\n",
      "Processing Record 389 | payakumbuh\n",
      "Processing Record 390 | haines junction\n",
      "Processing Record 391 | tuatapere\n",
      "Processing Record 392 | quelimane\n",
      "Processing Record 393 | aransas pass\n",
      "Processing Record 394 | baghdad\n",
      "Processing Record 395 | talcahuano\n",
      "Processing Record 396 | jussara\n",
      "Processing Record 397 | san vicente\n",
      "Processing Record 398 | montgomery\n",
      "Processing Record 399 | burns lake\n",
      "Processing Record 400 | djambala\n",
      "City not found. Skipping...\n",
      "City not found. Skipping...\n",
      "Processing Record 401 | thinadhoo\n",
      "Processing Record 402 | xining\n",
      "City not found. Skipping...\n",
      "Processing Record 403 | jalu\n",
      "Processing Record 404 | olafsvik\n",
      "Processing Record 405 | porto novo\n",
      "Processing Record 406 | nesna\n",
      "Processing Record 407 | amahai\n",
      "Processing Record 408 | bonavista\n",
      "Processing Record 409 | pajapan\n",
      "Processing Record 410 | verkhnevilyuysk\n",
      "Processing Record 411 | aleksandrov gay\n",
      "Processing Record 412 | sisimiut\n",
      "City not found. Skipping...\n",
      "Processing Record 413 | neiafu\n",
      "Processing Record 414 | kovdor\n",
      "Processing Record 415 | marrakesh\n",
      "Processing Record 416 | boende\n",
      "Processing Record 417 | chengam\n",
      "Processing Record 418 | kaseda\n",
      "Processing Record 419 | pasan\n",
      "Processing Record 420 | ha tinh\n",
      "City not found. Skipping...\n",
      "Processing Record 421 | orlik\n",
      "Processing Record 422 | kimparana\n",
      "Processing Record 423 | bonthe\n",
      "Processing Record 424 | severo-kurilsk\n",
      "Processing Record 425 | bellavista\n",
      "Processing Record 426 | ratnagiri\n",
      "Processing Record 427 | zastron\n",
      "Processing Record 428 | krasnoselkup\n",
      "Processing Record 429 | sarkand\n",
      "Processing Record 430 | manaure\n",
      "Processing Record 431 | taoudenni\n",
      "Processing Record 432 | manzhouli\n",
      "Processing Record 433 | san angelo\n",
      "City not found. Skipping...\n",
      "City not found. Skipping...\n",
      "Processing Record 434 | lasa\n",
      "Processing Record 435 | oiba\n",
      "Processing Record 436 | lalibela\n",
      "Processing Record 437 | chegutu\n",
      "Processing Record 438 | zhuanghe\n",
      "Processing Record 439 | parana\n",
      "Processing Record 440 | puerto cabezas\n",
      "Processing Record 441 | burgeo\n",
      "Processing Record 442 | fairbanks\n",
      "Processing Record 443 | turukhansk\n",
      "Processing Record 444 | cabedelo\n",
      "Processing Record 445 | aswan\n",
      "Processing Record 446 | cartagena del chaira\n",
      "Processing Record 447 | noumea\n",
      "Processing Record 448 | tautira\n",
      "Processing Record 449 | beltangadi\n",
      "City not found. Skipping...\n",
      "Processing Record 450 | conceicao da feira\n",
      "Processing Record 451 | zeya\n",
      "Processing Record 452 | jutai\n",
      "Processing Record 453 | whitehorse\n",
      "City not found. Skipping...\n",
      "Processing Record 454 | mpika\n",
      "Processing Record 455 | hasaki\n",
      "Processing Record 456 | vostok\n",
      "Processing Record 457 | nador\n",
      "Processing Record 458 | vinukonda\n"
     ]
    },
    {
     "name": "stdout",
     "output_type": "stream",
     "text": [
      "Processing Record 459 | ilo\n",
      "Processing Record 460 | kirakira\n",
      "Processing Record 461 | fabriano\n",
      "Processing Record 462 | prokopyevsk\n",
      "Processing Record 463 | klaksvik\n",
      "Processing Record 464 | samarai\n",
      "Processing Record 465 | kluang\n",
      "City not found. Skipping...\n",
      "Processing Record 466 | mabopane\n",
      "Processing Record 467 | karachi\n",
      "Processing Record 468 | vardo\n",
      "Processing Record 469 | gloucester\n",
      "Processing Record 470 | kimbe\n",
      "Processing Record 471 | narsaq\n",
      "Processing Record 472 | bowen\n",
      "Processing Record 473 | roebourne\n",
      "Processing Record 474 | selikhino\n",
      "Processing Record 475 | westport\n",
      "Processing Record 476 | zhob\n",
      "Processing Record 477 | ancud\n",
      "Processing Record 478 | samfya\n",
      "Processing Record 479 | hami\n",
      "Processing Record 480 | tamandare\n",
      "Processing Record 481 | kolokani\n",
      "Processing Record 482 | luino\n",
      "City not found. Skipping...\n",
      "Processing Record 483 | balikpapan\n",
      "Processing Record 484 | colares\n",
      "City not found. Skipping...\n",
      "Processing Record 485 | faratsiho\n",
      "Processing Record 486 | blagoyevo\n",
      "Processing Record 487 | klyuchi\n",
      "Processing Record 488 | jalalabad\n",
      "Processing Record 489 | poli\n",
      "Processing Record 490 | kalmunai\n",
      "Processing Record 491 | sao joao da barra\n",
      "Processing Record 492 | awjilah\n",
      "Processing Record 493 | auki\n",
      "Processing Record 494 | faanui\n",
      "Processing Record 495 | komsomolskiy\n",
      "Processing Record 496 | palekh\n",
      "Processing Record 497 | halifax\n",
      "Processing Record 498 | hvide sande\n",
      "Processing Record 499 | yurty\n",
      "Processing Record 500 | shaoxing\n",
      "Processing Record 501 | saint-augustin\n",
      "City not found. Skipping...\n",
      "Processing Record 502 | aksu\n",
      "Processing Record 503 | broken hill\n",
      "Processing Record 504 | turinsk\n",
      "Processing Record 505 | altay\n",
      "Processing Record 506 | fuxin\n",
      "Processing Record 507 | rundu\n",
      "Processing Record 508 | den helder\n",
      "Processing Record 509 | luganville\n",
      "Processing Record 510 | vinh\n",
      "Processing Record 511 | kyra\n",
      "Processing Record 512 | qaqortoq\n",
      "Processing Record 513 | chimore\n",
      "Processing Record 514 | balkhash\n",
      "Processing Record 515 | tangzhai\n",
      "Processing Record 516 | gornyy\n",
      "Processing Record 517 | bucerias\n",
      "Processing Record 518 | wukari\n",
      "Processing Record 519 | palauig\n",
      "Processing Record 520 | baft\n",
      "Processing Record 521 | doka\n",
      "Processing Record 522 | jardim\n",
      "Processing Record 523 | maltahohe\n",
      "Processing Record 524 | mananara\n",
      "City not found. Skipping...\n",
      "City not found. Skipping...\n",
      "Processing Record 525 | poroshkovo\n",
      "Processing Record 526 | nicoya\n",
      "City not found. Skipping...\n",
      "Processing Record 527 | cloquet\n",
      "Processing Record 528 | kutum\n",
      "Processing Record 529 | havre-saint-pierre\n",
      "Processing Record 530 | rio gallegos\n",
      "Processing Record 531 | la rioja\n",
      "Processing Record 532 | coronel\n",
      "Processing Record 533 | nosy varika\n",
      "Processing Record 534 | mwingi\n",
      "Processing Record 535 | husavik\n",
      "Processing Record 536 | batemans bay\n",
      "Processing Record 537 | francheville\n",
      "Processing Record 538 | kefar tavor\n",
      "City not found. Skipping...\n",
      "Processing Record 539 | numata\n",
      "Processing Record 540 | naryan-mar\n",
      "Processing Record 541 | kushiro\n",
      "Processing Record 542 | pafos\n",
      "Processing Record 543 | arman\n",
      "Processing Record 544 | maceio\n",
      "Processing Record 545 | san andres\n",
      "Processing Record 546 | marsh harbour\n",
      "Processing Record 547 | chortkiv\n",
      "Processing Record 548 | belmonte\n",
      "Processing Record 549 | huarmey\n",
      "Processing Record 550 | akyab\n",
      "Processing Record 551 | ginda\n",
      "City not found. Skipping...\n",
      "Processing Record 552 | kununurra\n",
      "City not found. Skipping...\n",
      "Processing Record 553 | tazovskiy\n",
      "Processing Record 554 | garissa\n",
      "Processing Record 555 | dothan\n",
      "Processing Record 556 | mayo\n",
      "Processing Record 557 | shelburne\n",
      "Processing Record 558 | sailana\n",
      "Processing Record 559 | valentin gomez farias\n",
      "Processing Record 560 | celestun\n",
      "Processing Record 561 | catabola\n",
      "Processing Record 562 | grand gaube\n",
      "Processing Record 563 | alice springs\n",
      "Processing Record 564 | bay saint louis\n"
     ]
    }
   ],
   "source": [
    "name = []\n",
    "lat = []\n",
    "lon = []\n",
    "temp = []\n",
    "humidity = []\n",
    "cloudiness = []\n",
    "wind = []\n",
    "country = []\n",
    "date = []\n",
    "x = 1\n",
    "\n",
    "url = \"http://api.openweathermap.org/data/2.5/weather?\"\n",
    "units = \"metric\"\n",
    "\n",
    "# Build partial query URL\n",
    "query_url = f\"{url}appid={weather_api_key}&units={units}&q=\"\n",
    "\n",
    "for city in cities:\n",
    "    try:\n",
    "        response = requests.get(query_url + city).json()\n",
    "        requests.get(query_url + city).raise_for_status()\n",
    "        name.append(response['name'])\n",
    "        lat.append(response['coord']['lat'])\n",
    "        lon.append(response['coord']['lon'])\n",
    "        temp.append(response['main']['temp_max'])\n",
    "        humidity.append(response['main']['humidity'])\n",
    "        cloudiness.append(response['clouds']['all'])\n",
    "        wind.append(response['wind']['speed'])\n",
    "        country.append(response['sys']['country'])\n",
    "        date.append(response['dt'])\n",
    "        print(f'Processing Record {x} | {city}')\n",
    "        x = x + 1\n",
    "    except requests.exceptions.HTTPError as err:\n",
    "        print(\"City not found. Skipping...\")\n",
    "\n",
    "        "
   ]
  },
  {
   "cell_type": "markdown",
   "metadata": {},
   "source": [
    "### Convert Raw Data to DataFrame\n",
    "* Export the city data into a .csv.\n",
    "* Display the DataFrame"
   ]
  },
  {
   "cell_type": "code",
   "execution_count": 31,
   "metadata": {},
   "outputs": [
    {
     "data": {
      "text/html": [
       "<div>\n",
       "<style scoped>\n",
       "    .dataframe tbody tr th:only-of-type {\n",
       "        vertical-align: middle;\n",
       "    }\n",
       "\n",
       "    .dataframe tbody tr th {\n",
       "        vertical-align: top;\n",
       "    }\n",
       "\n",
       "    .dataframe thead th {\n",
       "        text-align: right;\n",
       "    }\n",
       "</style>\n",
       "<table border=\"1\" class=\"dataframe\">\n",
       "  <thead>\n",
       "    <tr style=\"text-align: right;\">\n",
       "      <th></th>\n",
       "      <th>City</th>\n",
       "      <th>lat</th>\n",
       "      <th>lon</th>\n",
       "      <th>Max Temp</th>\n",
       "      <th>Humidity</th>\n",
       "      <th>Cloudiness</th>\n",
       "      <th>Wind Speed</th>\n",
       "      <th>Country</th>\n",
       "      <th>Date</th>\n",
       "    </tr>\n",
       "  </thead>\n",
       "  <tbody>\n",
       "    <tr>\n",
       "      <th>0</th>\n",
       "      <td>Hermanus</td>\n",
       "      <td>-34.42</td>\n",
       "      <td>19.23</td>\n",
       "      <td>9.44</td>\n",
       "      <td>83</td>\n",
       "      <td>100</td>\n",
       "      <td>2.24</td>\n",
       "      <td>ZA</td>\n",
       "      <td>1594695245</td>\n",
       "    </tr>\n",
       "    <tr>\n",
       "      <th>1</th>\n",
       "      <td>Port Elizabeth</td>\n",
       "      <td>-33.92</td>\n",
       "      <td>25.57</td>\n",
       "      <td>10.00</td>\n",
       "      <td>81</td>\n",
       "      <td>40</td>\n",
       "      <td>13.90</td>\n",
       "      <td>ZA</td>\n",
       "      <td>1594695280</td>\n",
       "    </tr>\n",
       "    <tr>\n",
       "      <th>2</th>\n",
       "      <td>Pangoa</td>\n",
       "      <td>-12.12</td>\n",
       "      <td>-73.00</td>\n",
       "      <td>20.10</td>\n",
       "      <td>91</td>\n",
       "      <td>51</td>\n",
       "      <td>1.17</td>\n",
       "      <td>PE</td>\n",
       "      <td>1594695280</td>\n",
       "    </tr>\n",
       "    <tr>\n",
       "      <th>3</th>\n",
       "      <td>Mataura</td>\n",
       "      <td>-46.19</td>\n",
       "      <td>168.86</td>\n",
       "      <td>8.14</td>\n",
       "      <td>83</td>\n",
       "      <td>92</td>\n",
       "      <td>1.96</td>\n",
       "      <td>NZ</td>\n",
       "      <td>1594695280</td>\n",
       "    </tr>\n",
       "    <tr>\n",
       "      <th>4</th>\n",
       "      <td>Puerto Ayora</td>\n",
       "      <td>-0.74</td>\n",
       "      <td>-90.35</td>\n",
       "      <td>19.44</td>\n",
       "      <td>92</td>\n",
       "      <td>21</td>\n",
       "      <td>2.92</td>\n",
       "      <td>EC</td>\n",
       "      <td>1594695281</td>\n",
       "    </tr>\n",
       "  </tbody>\n",
       "</table>\n",
       "</div>"
      ],
      "text/plain": [
       "             City    lat     lon  Max Temp  Humidity  Cloudiness  Wind Speed  \\\n",
       "0        Hermanus -34.42   19.23      9.44        83         100        2.24   \n",
       "1  Port Elizabeth -33.92   25.57     10.00        81          40       13.90   \n",
       "2          Pangoa -12.12  -73.00     20.10        91          51        1.17   \n",
       "3         Mataura -46.19  168.86      8.14        83          92        1.96   \n",
       "4    Puerto Ayora  -0.74  -90.35     19.44        92          21        2.92   \n",
       "\n",
       "  Country        Date  \n",
       "0      ZA  1594695245  \n",
       "1      ZA  1594695280  \n",
       "2      PE  1594695280  \n",
       "3      NZ  1594695280  \n",
       "4      EC  1594695281  "
      ]
     },
     "execution_count": 31,
     "metadata": {},
     "output_type": "execute_result"
    }
   ],
   "source": [
    "weather_dict = {\"City\": name,\n",
    "\"lat\": lat,\n",
    "\"lon\": lon,\n",
    "\"Max Temp\": temp,\n",
    "\"Humidity\": humidity,\n",
    "\"Cloudiness\": cloudiness,\n",
    "\"Wind Speed\": wind,\n",
    "\"Country\": country,\n",
    "\"Date\": date,\n",
    "}\n",
    "weather_data = pd.DataFrame(weather_dict)\n",
    "weather_data.head()"
   ]
  },
  {
   "cell_type": "markdown",
   "metadata": {},
   "source": [
    "## Inspect the data and remove the cities where the humidity > 100%.\n",
    "----\n",
    "Skip this step if there are no cities that have humidity > 100%. "
   ]
  },
  {
   "cell_type": "code",
   "execution_count": 35,
   "metadata": {},
   "outputs": [
    {
     "data": {
      "text/html": [
       "<div>\n",
       "<style scoped>\n",
       "    .dataframe tbody tr th:only-of-type {\n",
       "        vertical-align: middle;\n",
       "    }\n",
       "\n",
       "    .dataframe tbody tr th {\n",
       "        vertical-align: top;\n",
       "    }\n",
       "\n",
       "    .dataframe thead th {\n",
       "        text-align: right;\n",
       "    }\n",
       "</style>\n",
       "<table border=\"1\" class=\"dataframe\">\n",
       "  <thead>\n",
       "    <tr style=\"text-align: right;\">\n",
       "      <th></th>\n",
       "      <th>City</th>\n",
       "      <th>lat</th>\n",
       "      <th>lon</th>\n",
       "      <th>Max Temp</th>\n",
       "      <th>Humidity</th>\n",
       "      <th>Cloudiness</th>\n",
       "      <th>Wind Speed</th>\n",
       "      <th>Country</th>\n",
       "      <th>Date</th>\n",
       "    </tr>\n",
       "  </thead>\n",
       "  <tbody>\n",
       "  </tbody>\n",
       "</table>\n",
       "</div>"
      ],
      "text/plain": [
       "Empty DataFrame\n",
       "Columns: [City, lat, lon, Max Temp, Humidity, Cloudiness, Wind Speed, Country, Date]\n",
       "Index: []"
      ]
     },
     "execution_count": 35,
     "metadata": {},
     "output_type": "execute_result"
    }
   ],
   "source": [
    "weather_data.loc[weather_data[\"Humidity\"] > 100]"
   ]
  },
  {
   "cell_type": "code",
   "execution_count": 7,
   "metadata": {},
   "outputs": [
    {
     "data": {
      "text/plain": [
       "Int64Index([], dtype='int64')"
      ]
     },
     "execution_count": 7,
     "metadata": {},
     "output_type": "execute_result"
    }
   ],
   "source": [
    "#  Get the indices of cities that have humidity over 100%.\n"
   ]
  },
  {
   "cell_type": "code",
   "execution_count": 8,
   "metadata": {},
   "outputs": [
    {
     "data": {
      "text/html": [
       "<div>\n",
       "<style scoped>\n",
       "    .dataframe tbody tr th:only-of-type {\n",
       "        vertical-align: middle;\n",
       "    }\n",
       "\n",
       "    .dataframe tbody tr th {\n",
       "        vertical-align: top;\n",
       "    }\n",
       "\n",
       "    .dataframe thead th {\n",
       "        text-align: right;\n",
       "    }\n",
       "</style>\n",
       "<table border=\"1\" class=\"dataframe\">\n",
       "  <thead>\n",
       "    <tr style=\"text-align: right;\">\n",
       "      <th></th>\n",
       "      <th>City</th>\n",
       "      <th>Lat</th>\n",
       "      <th>Lng</th>\n",
       "      <th>Max Temp</th>\n",
       "      <th>Humidity</th>\n",
       "      <th>Cloudiness</th>\n",
       "      <th>Wind Speed</th>\n",
       "      <th>Country</th>\n",
       "      <th>Date</th>\n",
       "    </tr>\n",
       "  </thead>\n",
       "  <tbody>\n",
       "    <tr>\n",
       "      <th>0</th>\n",
       "      <td>pimentel</td>\n",
       "      <td>-6.84</td>\n",
       "      <td>-79.93</td>\n",
       "      <td>66.20</td>\n",
       "      <td>29</td>\n",
       "      <td>75</td>\n",
       "      <td>5.82</td>\n",
       "      <td>PE</td>\n",
       "      <td>1585764415</td>\n",
       "    </tr>\n",
       "    <tr>\n",
       "      <th>1</th>\n",
       "      <td>victoria</td>\n",
       "      <td>22.29</td>\n",
       "      <td>114.16</td>\n",
       "      <td>69.01</td>\n",
       "      <td>88</td>\n",
       "      <td>40</td>\n",
       "      <td>18.34</td>\n",
       "      <td>HK</td>\n",
       "      <td>1585764288</td>\n",
       "    </tr>\n",
       "    <tr>\n",
       "      <th>2</th>\n",
       "      <td>padang</td>\n",
       "      <td>-0.95</td>\n",
       "      <td>100.35</td>\n",
       "      <td>79.90</td>\n",
       "      <td>75</td>\n",
       "      <td>99</td>\n",
       "      <td>1.63</td>\n",
       "      <td>ID</td>\n",
       "      <td>1585764115</td>\n",
       "    </tr>\n",
       "    <tr>\n",
       "      <th>3</th>\n",
       "      <td>hasaki</td>\n",
       "      <td>35.73</td>\n",
       "      <td>140.83</td>\n",
       "      <td>55.00</td>\n",
       "      <td>100</td>\n",
       "      <td>75</td>\n",
       "      <td>4.70</td>\n",
       "      <td>JP</td>\n",
       "      <td>1585764415</td>\n",
       "    </tr>\n",
       "    <tr>\n",
       "      <th>4</th>\n",
       "      <td>kahului</td>\n",
       "      <td>20.89</td>\n",
       "      <td>-156.47</td>\n",
       "      <td>70.00</td>\n",
       "      <td>88</td>\n",
       "      <td>1</td>\n",
       "      <td>7.63</td>\n",
       "      <td>US</td>\n",
       "      <td>1585764415</td>\n",
       "    </tr>\n",
       "  </tbody>\n",
       "</table>\n",
       "</div>"
      ],
      "text/plain": [
       "       City    Lat     Lng  Max Temp  Humidity  Cloudiness  Wind Speed  \\\n",
       "0  pimentel  -6.84  -79.93     66.20        29          75        5.82   \n",
       "1  victoria  22.29  114.16     69.01        88          40       18.34   \n",
       "2    padang  -0.95  100.35     79.90        75          99        1.63   \n",
       "3    hasaki  35.73  140.83     55.00       100          75        4.70   \n",
       "4   kahului  20.89 -156.47     70.00        88           1        7.63   \n",
       "\n",
       "  Country        Date  \n",
       "0      PE  1585764415  \n",
       "1      HK  1585764288  \n",
       "2      ID  1585764115  \n",
       "3      JP  1585764415  \n",
       "4      US  1585764415  "
      ]
     },
     "execution_count": 8,
     "metadata": {},
     "output_type": "execute_result"
    }
   ],
   "source": [
    "# Make a new DataFrame equal to the city data to drop all humidity outliers by index.\n",
    "# Passing \"inplace=False\" will make a copy of the city_data DataFrame, which we call \"clean_city_data\".\n"
   ]
  },
  {
   "cell_type": "code",
   "execution_count": 37,
   "metadata": {},
   "outputs": [],
   "source": [
    "# Extract relevant fields from the data frame\n",
    "\n",
    "\n",
    "# Export the City_Data into a csv\n",
    "weather_data.to_csv(\"Output/weather_data.csv\", index=True)"
   ]
  },
  {
   "cell_type": "markdown",
   "metadata": {},
   "source": [
    "## Plotting the Data\n",
    "* Use proper labeling of the plots using plot titles (including date of analysis) and axes labels.\n",
    "* Save the plotted figures as .pngs."
   ]
  },
  {
   "cell_type": "markdown",
   "metadata": {},
   "source": [
    "## Latitude vs. Temperature Plot"
   ]
  },
  {
   "cell_type": "code",
   "execution_count": 57,
   "metadata": {
    "scrolled": true
   },
   "outputs": [
    {
     "data": {
      "image/png": "[encoded data removed]",
      "text/plain": [
       "<Figure size 432x288 with 1 Axes>"
      ]
     },
     "metadata": {
      "needs_background": "light"
     },
     "output_type": "display_data"
    }
   ],
   "source": [
    "plt.scatter(weather_data[\"lat\"], weather_data[\"Max Temp\"], marker=\"o\", facecolors=\"blue\", edgecolors=\"black\")\n",
    "plt.xlabel(\"Latitude\")\n",
    "plt.ylabel(\"Max Temperature (F)\")\n",
    "plt.title(\"City Latitude vs. Max Temperature (07/14/20)\")\n",
    "plt.show\n",
    "plt.savefig(\"Output/fig1.png\")"
   ]
  },
  {
   "cell_type": "markdown",
   "metadata": {},
   "source": [
    "## Latitude vs. Humidity Plot"
   ]
  },
  {
   "cell_type": "code",
   "execution_count": 58,
   "metadata": {},
   "outputs": [
    {
     "data": {
      "image/png": "[encoded data removed]",
      "text/plain": [
       "<Figure size 432x288 with 1 Axes>"
      ]
     },
     "metadata": {
      "needs_background": "light"
     },
     "output_type": "display_data"
    }
   ],
   "source": [
    "plt.scatter(weather_data[\"lat\"], weather_data[\"Humidity\"], marker=\"o\", facecolors=\"blue\", edgecolors=\"black\")\n",
    "plt.xlabel(\"Latitude\")\n",
    "plt.ylabel(\"Humidity (%)\")\n",
    "plt.title(\"City Latitude vs. Humidity (07/14/20)\")\n",
    "plt.show\n",
    "plt.savefig(\"Output/fig2.png\")"
   ]
  },
  {
   "cell_type": "markdown",
   "metadata": {},
   "source": [
    "## Latitude vs. Cloudiness Plot"
   ]
  },
  {
   "cell_type": "code",
   "execution_count": 59,
   "metadata": {},
   "outputs": [
    {
     "data": {
      "image/png": "[encoded data removed]",
      "text/plain": [
       "<Figure size 432x288 with 1 Axes>"
      ]
     },
     "metadata": {
      "needs_background": "light"
     },
     "output_type": "display_data"
    }
   ],
   "source": [
    "plt.scatter(weather_data[\"lat\"], weather_data[\"Cloudiness\"], marker=\"o\", facecolors=\"blue\", edgecolors=\"black\")\n",
    "plt.xlabel(\"Latitude\")\n",
    "plt.ylabel(\"Cloudiness (%)\")\n",
    "plt.title(\"City Latitude vs. Cloudiness (07/14/20)\")\n",
    "plt.show\n",
    "plt.savefig(\"Output/fig3.png\")"
   ]
  },
  {
   "cell_type": "markdown",
   "metadata": {},
   "source": [
    "## Latitude vs. Wind Speed Plot"
   ]
  },
  {
   "cell_type": "code",
   "execution_count": 60,
   "metadata": {},
   "outputs": [
    {
     "data": {
      "image/png": "[encoded data removed]",
      "text/plain": [
       "<Figure size 432x288 with 1 Axes>"
      ]
     },
     "metadata": {
      "needs_background": "light"
     },
     "output_type": "display_data"
    }
   ],
   "source": [
    "plt.scatter(weather_data[\"lat\"], weather_data[\"Wind Speed\"], marker=\"o\", facecolors=\"blue\", edgecolors=\"black\")\n",
    "plt.xlabel(\"Latitude\")\n",
    "plt.ylabel(\"Wind Speed (mph)\")\n",
    "plt.title(\"City Latitude vs. Wind Speed (07/14/20)\")\n",
    "plt.show\n",
    "plt.savefig(\"Output/fig4.png\")"
   ]
  },
  {
   "cell_type": "markdown",
   "metadata": {},
   "source": [
    "## Linear Regression"
   ]
  },
  {
   "cell_type": "code",
   "execution_count": 14,
   "metadata": {},
   "outputs": [],
   "source": [
    "# OPTIONAL: Create a function to create Linear Regression plots"
   ]
  },
  {
   "cell_type": "code",
   "execution_count": 46,
   "metadata": {},
   "outputs": [],
   "source": [
    "# Create Northern and Southern Hemisphere DataFrames\n",
    "north_data = weather_data.loc[weather_data[\"lat\"] > 0]\n",
    "south_data = weather_data.loc[weather_data[\"lat\"] < 0]"
   ]
  },
  {
   "cell_type": "markdown",
   "metadata": {},
   "source": [
    "####  Northern Hemisphere - Max Temp vs. Latitude Linear Regression"
   ]
  },
  {
   "cell_type": "code",
   "execution_count": 61,
   "metadata": {},
   "outputs": [
    {
     "name": "stdout",
     "output_type": "stream",
     "text": [
      "The r-squared is: 0.40823624963056304\n"
     ]
    },
    {
     "data": {
      "image/png": "[encoded data removed]",
      "text/plain": [
       "<Figure size 432x288 with 1 Axes>"
      ]
     },
     "metadata": {
      "needs_background": "light"
     },
     "output_type": "display_data"
    },
    {
     "data": {
      "text/plain": [
       "<Figure size 432x288 with 0 Axes>"
      ]
     },
     "metadata": {},
     "output_type": "display_data"
    }
   ],
   "source": [
    "x_values = north_data[\"lat\"]\n",
    "y_values = north_data[\"Max Temp\"]\n",
    "\n",
    "(slope, intercept, rvalue, pvalue, stderr) = linregress(x_values, y_values)\n",
    "regress_values = x_values * slope + intercept\n",
    "line_eq = \"y = \" + str(round(slope,2)) + \"x + \" + str(round(intercept,2))\n",
    "plt.scatter(x_values,y_values)\n",
    "plt.plot(x_values,regress_values,\"r-\")\n",
    "plt.xlabel('Max Temp')\n",
    "plt.ylabel('Latitude')\n",
    "print(f\"The r-squared is: {rvalue**2}\")\n",
    "plt.show()\n",
    "plt.savefig(\"Output/fig5.png\")"
   ]
  },
  {
   "cell_type": "markdown",
   "metadata": {},
   "source": [
    "####  Southern Hemisphere - Max Temp vs. Latitude Linear Regression"
   ]
  },
  {
   "cell_type": "code",
   "execution_count": 62,
   "metadata": {},
   "outputs": [
    {
     "name": "stdout",
     "output_type": "stream",
     "text": [
      "The r-squared is: 0.5224285420644973\n"
     ]
    },
    {
     "data": {
      "image/png": "[encoded data removed]",
      "text/plain": [
       "<Figure size 432x288 with 1 Axes>"
      ]
     },
     "metadata": {
      "needs_background": "light"
     },
     "output_type": "display_data"
    },
    {
     "data": {
      "text/plain": [
       "<Figure size 432x288 with 0 Axes>"
      ]
     },
     "metadata": {},
     "output_type": "display_data"
    }
   ],
   "source": [
    "x_values = south_data[\"lat\"]\n",
    "y_values = south_data[\"Max Temp\"]\n",
    "\n",
    "(slope, intercept, rvalue, pvalue, stderr) = linregress(x_values, y_values)\n",
    "regress_values = x_values * slope + intercept\n",
    "line_eq = \"y = \" + str(round(slope,2)) + \"x + \" + str(round(intercept,2))\n",
    "plt.scatter(x_values,y_values)\n",
    "plt.plot(x_values,regress_values,\"r-\")\n",
    "plt.xlabel('Max Temp')\n",
    "plt.ylabel('Latitude')\n",
    "print(f\"The r-squared is: {rvalue**2}\")\n",
    "plt.show()\n",
    "plt.savefig(\"Output/fig6.png\")"
   ]
  },
  {
   "cell_type": "markdown",
   "metadata": {},
   "source": [
    "####  Northern Hemisphere - Humidity (%) vs. Latitude Linear Regression"
   ]
  },
  {
   "cell_type": "code",
   "execution_count": 63,
   "metadata": {},
   "outputs": [
    {
     "name": "stdout",
     "output_type": "stream",
     "text": [
      "The r-squared is: 0.003975365986700185\n"
     ]
    },
    {
     "data": {
      "image/png": "[encoded data removed]",
      "text/plain": [
       "<Figure size 432x288 with 1 Axes>"
      ]
     },
     "metadata": {
      "needs_background": "light"
     },
     "output_type": "display_data"
    },
    {
     "data": {
      "text/plain": [
       "<Figure size 432x288 with 0 Axes>"
      ]
     },
     "metadata": {},
     "output_type": "display_data"
    }
   ],
   "source": [
    "x_values = north_data[\"lat\"]\n",
    "y_values = north_data[\"Humidity\"]\n",
    "\n",
    "(slope, intercept, rvalue, pvalue, stderr) = linregress(x_values, y_values)\n",
    "regress_values = x_values * slope + intercept\n",
    "line_eq = \"y = \" + str(round(slope,2)) + \"x + \" + str(round(intercept,2))\n",
    "plt.scatter(x_values,y_values)\n",
    "plt.plot(x_values,regress_values,\"r-\")\n",
    "plt.xlabel('Latitude')\n",
    "plt.ylabel('Humidity')\n",
    "print(f\"The r-squared is: {rvalue**2}\")\n",
    "plt.show()\n",
    "plt.savefig(\"Output/fig7.png\")"
   ]
  },
  {
   "cell_type": "markdown",
   "metadata": {},
   "source": [
    "####  Southern Hemisphere - Humidity (%) vs. Latitude Linear Regression"
   ]
  },
  {
   "cell_type": "code",
   "execution_count": 64,
   "metadata": {},
   "outputs": [
    {
     "name": "stdout",
     "output_type": "stream",
     "text": [
      "The r-squared is: 0.00134455829426477\n"
     ]
    },
    {
     "data": {
      "image/png": "[encoded data removed]",
      "text/plain": [
       "<Figure size 432x288 with 1 Axes>"
      ]
     },
     "metadata": {
      "needs_background": "light"
     },
     "output_type": "display_data"
    },
    {
     "data": {
      "text/plain": [
       "<Figure size 432x288 with 0 Axes>"
      ]
     },
     "metadata": {},
     "output_type": "display_data"
    }
   ],
   "source": [
    "x_values = south_data[\"lat\"]\n",
    "y_values = south_data[\"Humidity\"]\n",
    "\n",
    "(slope, intercept, rvalue, pvalue, stderr) = linregress(x_values, y_values)\n",
    "regress_values = x_values * slope + intercept\n",
    "line_eq = \"y = \" + str(round(slope,2)) + \"x + \" + str(round(intercept,2))\n",
    "plt.scatter(x_values,y_values)\n",
    "plt.plot(x_values,regress_values,\"r-\")\n",
    "plt.xlabel('Latitude')\n",
    "plt.ylabel('Humidity')\n",
    "print(f\"The r-squared is: {rvalue**2}\")\n",
    "plt.show()\n",
    "plt.savefig(\"Output/fig8.png\")"
   ]
  },
  {
   "cell_type": "markdown",
   "metadata": {},
   "source": [
    "####  Northern Hemisphere - Cloudiness (%) vs. Latitude Linear Regression"
   ]
  },
  {
   "cell_type": "code",
   "execution_count": 65,
   "metadata": {},
   "outputs": [
    {
     "name": "stdout",
     "output_type": "stream",
     "text": [
      "The r-squared is: 0.015413016460657784\n"
     ]
    },
    {
     "data": {
      "image/png": "[encoded data removed]",
      "text/plain": [
       "<Figure size 432x288 with 1 Axes>"
      ]
     },
     "metadata": {
      "needs_background": "light"
     },
     "output_type": "display_data"
    },
    {
     "data": {
      "text/plain": [
       "<Figure size 432x288 with 0 Axes>"
      ]
     },
     "metadata": {},
     "output_type": "display_data"
    }
   ],
   "source": [
    "x_values = north_data[\"lat\"]\n",
    "y_values = north_data[\"Cloudiness\"]\n",
    "\n",
    "(slope, intercept, rvalue, pvalue, stderr) = linregress(x_values, y_values)\n",
    "regress_values = x_values * slope + intercept\n",
    "line_eq = \"y = \" + str(round(slope,2)) + \"x + \" + str(round(intercept,2))\n",
    "plt.scatter(x_values,y_values)\n",
    "plt.plot(x_values,regress_values,\"r-\")\n",
    "plt.xlabel('Latitude')\n",
    "plt.ylabel('Cloudiness')\n",
    "print(f\"The r-squared is: {rvalue**2}\")\n",
    "plt.show()\n",
    "plt.savefig(\"Output/fig9.png\")"
   ]
  },
  {
   "cell_type": "markdown",
   "metadata": {},
   "source": [
    "####  Southern Hemisphere - Cloudiness (%) vs. Latitude Linear Regression"
   ]
  },
  {
   "cell_type": "code",
   "execution_count": 66,
   "metadata": {},
   "outputs": [
    {
     "name": "stdout",
     "output_type": "stream",
     "text": [
      "The r-squared is: 0.015698822420394654\n"
     ]
    },
    {
     "data": {
      "image/png": "[encoded data removed]",
      "text/plain": [
       "<Figure size 432x288 with 1 Axes>"
      ]
     },
     "metadata": {
      "needs_background": "light"
     },
     "output_type": "display_data"
    },
    {
     "data": {
      "text/plain": [
       "<Figure size 432x288 with 0 Axes>"
      ]
     },
     "metadata": {},
     "output_type": "display_data"
    }
   ],
   "source": [
    "x_values = south_data[\"lat\"]\n",
    "y_values = south_data[\"Cloudiness\"]\n",
    "\n",
    "(slope, intercept, rvalue, pvalue, stderr) = linregress(x_values, y_values)\n",
    "regress_values = x_values * slope + intercept\n",
    "line_eq = \"y = \" + str(round(slope,2)) + \"x + \" + str(round(intercept,2))\n",
    "plt.scatter(x_values,y_values)\n",
    "plt.plot(x_values,regress_values,\"r-\")\n",
    "plt.xlabel('Latitude')\n",
    "plt.ylabel('Cloudiness')\n",
    "print(f\"The r-squared is: {rvalue**2}\")\n",
    "plt.show()\n",
    "plt.savefig(\"Output/fig10.png\")"
   ]
  },
  {
   "cell_type": "markdown",
   "metadata": {},
   "source": [
    "####  Northern Hemisphere - Wind Speed (mph) vs. Latitude Linear Regression"
   ]
  },
  {
   "cell_type": "code",
   "execution_count": 67,
   "metadata": {},
   "outputs": [
    {
     "name": "stdout",
     "output_type": "stream",
     "text": [
      "The r-squared is: 0.006674693203392259\n"
     ]
    },
    {
     "data": {
      "image/png": "[encoded data removed]",
      "text/plain": [
       "<Figure size 432x288 with 1 Axes>"
      ]
     },
     "metadata": {
      "needs_background": "light"
     },
     "output_type": "display_data"
    },
    {
     "data": {
      "text/plain": [
       "<Figure size 432x288 with 0 Axes>"
      ]
     },
     "metadata": {},
     "output_type": "display_data"
    }
   ],
   "source": [
    "x_values = north_data[\"lat\"]\n",
    "y_values = north_data[\"Wind Speed\"]\n",
    "\n",
    "(slope, intercept, rvalue, pvalue, stderr) = linregress(x_values, y_values)\n",
    "regress_values = x_values * slope + intercept\n",
    "line_eq = \"y = \" + str(round(slope,2)) + \"x + \" + str(round(intercept,2))\n",
    "plt.scatter(x_values,y_values)\n",
    "plt.plot(x_values,regress_values,\"r-\")\n",
    "plt.xlabel('Latitude')\n",
    "plt.ylabel('Wind Speed')\n",
    "print(f\"The r-squared is: {rvalue**2}\")\n",
    "plt.show()\n",
    "plt.savefig(\"Output/fig11.png\")"
   ]
  },
  {
   "cell_type": "markdown",
   "metadata": {},
   "source": [
    "####  Southern Hemisphere - Wind Speed (mph) vs. Latitude Linear Regression"
   ]
  },
  {
   "cell_type": "code",
   "execution_count": 68,
   "metadata": {},
   "outputs": [
    {
     "name": "stdout",
     "output_type": "stream",
     "text": [
      "The r-squared is: 0.07040576229413929\n"
     ]
    },
    {
     "data": {
      "image/png": "[encoded data removed]",
      "text/plain": [
       "<Figure size 432x288 with 1 Axes>"
      ]
     },
     "metadata": {
      "needs_background": "light"
     },
     "output_type": "display_data"
    },
    {
     "data": {
      "text/plain": [
       "<Figure size 432x288 with 0 Axes>"
      ]
     },
     "metadata": {},
     "output_type": "display_data"
    }
   ],
   "source": [
    "x_values = south_data[\"lat\"]\n",
    "y_values = south_data[\"Wind Speed\"]\n",
    "\n",
    "(slope, intercept, rvalue, pvalue, stderr) = linregress(x_values, y_values)\n",
    "regress_values = x_values * slope + intercept\n",
    "line_eq = \"y = \" + str(round(slope,2)) + \"x + \" + str(round(intercept,2))\n",
    "plt.scatter(x_values,y_values)\n",
    "plt.plot(x_values,regress_values,\"r-\")\n",
    "plt.xlabel('Latitude')\n",
    "plt.ylabel('Wind Speed')\n",
    "print(f\"The r-squared is: {rvalue**2}\")\n",
    "plt.show()\n",
    "plt.savefig(\"Output/fig12.png\")"
   ]
  },
  {
   "cell_type": "code",
   "execution_count": null,
   "metadata": {},
   "outputs": [],
   "source": []
  }
 ],
 "metadata": {
  "anaconda-cloud": {},
  "kernel_info": {
   "name": "python3"
  },
  "kernelspec": {
   "display_name": "Python [conda env:root] *",
   "language": "python",
   "name": "conda-root-py"
  },
  "language_info": {
   "codemirror_mode": {
    "name": "ipython",
    "version": 3
   },
   "file_extension": ".py",
   "mimetype": "text/x-python",
   "name": "python",
   "nbconvert_exporter": "python",
   "pygments_lexer": "ipython3",
   "version": "3.7.6"
  },
  "latex_envs": {
   "LaTeX_envs_menu_present": true,
   "autoclose": false,
   "autocomplete": true,
   "bibliofile": "biblio.bib",
   "cite_by": "apalike",
   "current_citInitial": 1,
   "eqLabelWithNumbers": true,
   "eqNumInitial": 1,
   "hotkeys": {
    "equation": "Ctrl-E",
    "itemize": "Ctrl-I"
   },
   "labels_anchors": false,
   "latex_user_defs": false,
   "report_style_numbering": false,
   "user_envs_cfg": false
  },
  "nteract": {
   "version": "0.12.3"
  }
 },
 "nbformat": 4,
 "nbformat_minor": 2
}
